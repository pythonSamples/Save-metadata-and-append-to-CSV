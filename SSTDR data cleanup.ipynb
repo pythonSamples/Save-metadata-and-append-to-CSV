{
 "cells": [
  {
   "cell_type": "code",
   "execution_count": 2,
   "metadata": {
    "collapsed": false
   },
   "outputs": [],
   "source": [
    "'''\n",
    "You must create two folders in the directory with the .lwi files\n",
    "folder 1: csv_files\n",
    "folder 2: averages\n",
    "'''\n",
    "\n",
    "\n",
    "#imports modules\n",
    "import glob\n",
    "import pandas as pd\n",
    "import os\n",
    "\n",
    "\n",
    "filePath = '*.lwi' #used to find all files ending in .lwi\n",
    "cwd = os.getcwd() #current directory\n",
    "\n",
    "fileList = (glob.glob(filePath)) #lists all files in the curernt file path ending in .lwi\n",
    "\n",
    "#This loop copies the metadata into new .csv files\n",
    "for i in range(len(fileList)):\n",
    "    f = open(fileList[i], 'r')\n",
    "    z = f.read()\n",
    "    z = z[:471]\n",
    "    f.close()\n",
    "    \n",
    "    \n",
    "    p = open('%s\\\\csv_files\\\\%s.csv' %(cwd,fileList[i][0:35]), 'w')\n",
    "    p.write(z)\n",
    "    p.write('\\n\\n')\n",
    "    p.close()\n",
    "\n",
    "#This loop appends the numerical data into the exsisting .csv files\n",
    "for i in range(len(fileList)):\n",
    "    x = pd.read_table(fileList[i], skiprows = 3, header = None)\n",
    "    with open('%s\\\\csv_files\\\\%s.csv' %(cwd,fileList[i][0:35]), 'a') as f:\n",
    "        x.to_csv(f, index = False)"
   ]
  },
  {
   "cell_type": "code",
   "execution_count": 3,
   "metadata": {
    "collapsed": false,
    "scrolled": true
   },
   "outputs": [],
   "source": [
    "#Creates new CSVs with the averages of the column data\n",
    "\n",
    "filePath = '*.lwi' #used to find all files ending in .lwi\n",
    "\n",
    "#lists all files in path ending in .lwi\n",
    "fileList = (glob.glob(filePath))\n",
    "\n",
    "for i in range(len(fileList)):\n",
    "    df = pd.read_table(fileList[i], skiprows = 3, header = None)\n",
    "    averages = pd.DataFrame(df.mean())\n",
    "    averages.to_csv('%s\\\\averages\\\\%s.csv' %(cwd,fileList[i][0:35]), header = False, index = False)\n",
    "    \n"
   ]
  }
 ],
 "metadata": {
  "anaconda-cloud": {},
  "kernelspec": {
   "display_name": "Python [conda root]",
   "language": "python",
   "name": "conda-root-py"
  },
  "language_info": {
   "codemirror_mode": {
    "name": "ipython",
    "version": 3
   },
   "file_extension": ".py",
   "mimetype": "text/x-python",
   "name": "python",
   "nbconvert_exporter": "python",
   "pygments_lexer": "ipython3",
   "version": "3.5.2"
  }
 },
 "nbformat": 4,
 "nbformat_minor": 2
}
